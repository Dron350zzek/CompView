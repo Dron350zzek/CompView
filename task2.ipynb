{
 "cells": [
  {
   "attachments": {},
   "cell_type": "markdown",
   "metadata": {},
   "source": [
    "Задание 2. Насчщенность в LAB, осветление в LAB"
   ]
  },
  {
   "cell_type": "code",
   "execution_count": 40,
   "metadata": {},
   "outputs": [],
   "source": [
    "import os\n",
    "import cv2\n",
    "import numpy as np\n",
    "from matplotlib import pyplot as plt\n",
    "from skimage import img_as_float"
   ]
  },
  {
   "cell_type": "code",
   "execution_count": 41,
   "metadata": {},
   "outputs": [],
   "source": [
    "def modify_saturation(image_name, ratio=1.2):\n",
    "  print('start modify saturation')\n",
    "  bgr_image = cv2.imread(image_name, 1)\n",
    "  lab_image = cv2.cvtColor(bgr_image, cv2.COLOR_BGR2LAB)\n",
    "  l = np.array(lab_image[:, :, 0], np.float32)\n",
    "  a = np.array(lab_image[:, :, 1], np.float32)\n",
    "  b = np.array(lab_image[:, :, 2], np.float32)\n",
    "  h, w = a.shape\n",
    "  for i in range(h):\n",
    "    for k in range(w):\n",
    "      a[i, k] = min(255, a[i, k] * ratio)\n",
    "  h, w = b.shape\n",
    "  for i in range(h):\n",
    "    for k in range(w):\n",
    "      b[i, k] = min(255, b[i, k] * ratio)\n",
    "  res = cv2.merge([l, a, b])\n",
    "  res = cv2.cvtColor(res.astype('uint8'), cv2.COLOR_LAB2BGR)\n",
    "  print(image_name + '_modify_saturation'+ '_' + str(ratio) + '.jpg')\n",
    "  cv2.imwrite(image_name + '_modify_saturation'+ '_' + str(ratio) + '.jpg',res)\n",
    "  print('done modify saturation')"
   ]
  },
  {
   "cell_type": "code",
   "execution_count": 42,
   "metadata": {},
   "outputs": [],
   "source": [
    "def modify_brightness(image_name, delta=50):\n",
    "  print('start modify brightness')\n",
    "  image = cv2.imread(image_name, 1)\n",
    "  lab_image = cv2.cvtColor(image, cv2.COLOR_BGR2LAB)\n",
    "  l = np.array(lab_image[:, :, 0], np.float32)\n",
    "  h, w = l.shape\n",
    "  for i in range(h):\n",
    "    for k in range(w):\n",
    "      # Если выйдем за границы 255, в некоторых местах \n",
    "      # вместо белого получим черные пятна\n",
    "      l[i, k] = min(255, l[i, k] + delta)\n",
    "  a = np.array(lab_image[:, :, 1], np.float32)\n",
    "  b = np.array(lab_image[:, :, 2], np.float32)\n",
    "  res = cv2.merge([l, a, b])\n",
    "  res = cv2.cvtColor(res.astype('uint8'), cv2.COLOR_LAB2BGR)\n",
    "  print(image_name + '_modify_brightness'+ '_' + str(delta)+'.jpg')\n",
    "  cv2.imwrite(image_name + '_modify_brightness'+ '_' + str(delta) + '.jpg', res)\n",
    "  print('done modify brightness')"
   ]
  },
  {
   "cell_type": "code",
   "execution_count": 43,
   "metadata": {},
   "outputs": [
    {
     "name": "stdout",
     "output_type": "stream",
     "text": [
      "d:\\OneDrive\\Filipov\\compView\n",
      "start modify saturation\n",
      "d:\\OneDrive\\Filipov\\compView//input2//12.jpg_modify_saturation_1.7.jpg\n",
      "done modify saturation\n"
     ]
    }
   ],
   "source": [
    "curpath = os.getcwd()\n",
    "print(curpath)\n",
    "img_path = f'{curpath}//input2//12.jpg'\n",
    "modify_saturation(img_path, 1.7)\n"
   ]
  },
  {
   "cell_type": "code",
   "execution_count": 44,
   "metadata": {},
   "outputs": [
    {
     "name": "stdout",
     "output_type": "stream",
     "text": [
      "start modify brightness\n",
      "d:\\OneDrive\\Filipov\\compView//input2//9.jpg_modify_brightness_100.jpg\n",
      "done modify brightness\n"
     ]
    }
   ],
   "source": [
    "img_path2 = f'{curpath}//input2//9.jpg'\n",
    "modify_brightness(img_path2, 100)"
   ]
  }
 ],
 "metadata": {
  "kernelspec": {
   "display_name": "Python 3",
   "language": "python",
   "name": "python3"
  },
  "language_info": {
   "codemirror_mode": {
    "name": "ipython",
    "version": 3
   },
   "file_extension": ".py",
   "mimetype": "text/x-python",
   "name": "python",
   "nbconvert_exporter": "python",
   "pygments_lexer": "ipython3",
   "version": "3.8.10"
  },
  "orig_nbformat": 4
 },
 "nbformat": 4,
 "nbformat_minor": 2
}
