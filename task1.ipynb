{
 "cells": [
  {
   "cell_type": "code",
   "execution_count": 7,
   "metadata": {},
   "outputs": [],
   "source": [
    "import os\n",
    "import cv2\n",
    "import numpy\n",
    "from matplotlib import pyplot as plt\n",
    "import math"
   ]
  },
  {
   "cell_type": "code",
   "execution_count": 8,
   "metadata": {},
   "outputs": [],
   "source": [
    "def get_average_brightness(img, left_bound, right_bound, bottom_bound, top_bound):\n",
    "  if right_bound < left_bound or top_bound < bottom_bound:\n",
    "    raise Exception('Wrong bounds!')\n",
    "  gray_image = cv2.cvtColor(img, cv2.COLOR_BGR2GRAY)\n",
    "  cropped_gray_image = gray_image[bottom_bound:top_bound, left_bound:right_bound]\n",
    "  h, w = cropped_gray_image.shape\n",
    "  denominator = h * w\n",
    "  nominator = 0\n",
    "  for i in range(h):\n",
    "    for k in range(w):\n",
    "      nominator += cropped_gray_image[i, k]\n",
    "  return nominator / denominator"
   ]
  },
  {
   "attachments": {},
   "cell_type": "markdown",
   "metadata": {},
   "source": [
    "Задаем границы работы в изображении\n",
    "проходим по каждому изображению из папки\n",
    "для каждого фото получаем значения + или - ev\n",
    "составляем массив значений и рисуем график"
   ]
  },
  {
   "cell_type": "code",
   "execution_count": 9,
   "metadata": {},
   "outputs": [
    {
     "name": "stdout",
     "output_type": "stream",
     "text": [
      "process 1.jpg\n",
      "process 10.jpg\n",
      "process 11.jpg\n",
      "process 12.jpg\n",
      "process 13.jpg\n",
      "process 14.jpg\n",
      "process 15.jpg\n",
      "process 16.jpg\n",
      "process 17.jpg\n",
      "process 18.jpg\n",
      "process 19.jpg\n",
      "process 2.jpg\n",
      "process 20.jpg\n",
      "process 21.jpg\n",
      "process 22.jpg\n",
      "process 23.jpg\n",
      "process 24.jpg\n",
      "process 25.jpg\n",
      "process 3.jpg\n",
      "process 4.jpg\n",
      "process 5.jpg\n",
      "process 6.jpg\n",
      "process 7.jpg\n",
      "process 8.jpg\n",
      "process 9.jpg\n"
     ]
    },
    {
     "data": {
      "text/plain": [
       "[[2.0,\n",
       "  0.47,\n",
       "  0.2999999999999998,\n",
       "  0.1299999999999999,\n",
       "  -0.040000000000000036,\n",
       "  -0.20999999999999996,\n",
       "  -0.38000000000000034,\n",
       "  -0.5500000000000003,\n",
       "  -0.7200000000000002,\n",
       "  -0.8900000000000001,\n",
       "  -1.06,\n",
       "  1.83,\n",
       "  -1.2300000000000004,\n",
       "  -1.4000000000000004,\n",
       "  -1.5700000000000003,\n",
       "  -1.7400000000000002,\n",
       "  -1.9100000000000001,\n",
       "  -2.08,\n",
       "  1.66,\n",
       "  1.49,\n",
       "  1.3199999999999998,\n",
       "  1.15,\n",
       "  0.98,\n",
       "  0.8099999999999998,\n",
       "  0.6399999999999999],\n",
       " [5.398951052670319,\n",
       "  4.301499203363922,\n",
       "  4.216898544470868,\n",
       "  4.1036329216610845,\n",
       "  3.9779797391766287,\n",
       "  3.957007809736125,\n",
       "  3.8837187541539584,\n",
       "  3.7643730956401567,\n",
       "  3.6081533313134253,\n",
       "  3.523257417742654,\n",
       "  3.4075652217592074,\n",
       "  5.337745535407615,\n",
       "  3.274334017347498,\n",
       "  3.093827009881428,\n",
       "  3.005184456207425,\n",
       "  2.8991996604789696,\n",
       "  2.8209047243045258,\n",
       "  2.65076388434619,\n",
       "  5.26117393907896,\n",
       "  5.165290578418823,\n",
       "  5.005916211809972,\n",
       "  4.857485614076141,\n",
       "  4.718917020857127,\n",
       "  4.5796337216216045,\n",
       "  4.45128713628037]]"
      ]
     },
     "execution_count": 9,
     "metadata": {},
     "output_type": "execute_result"
    }
   ],
   "source": [
    "left_bound = 600\n",
    "right_bound = 2500\n",
    "bottom_bound = 300\n",
    "top_bound = 1500\n",
    "data_dir = 'input1/'\n",
    "ev = []\n",
    "startv = 2.0\n",
    "cur_ev = 2.17\n",
    "avg_brightness = []\n",
    "for filename in os.listdir(data_dir):\n",
    "  print(f'process {filename}')\n",
    "\n",
    "  cur_ev = startv - (0.17 * ((int)(filename.split('.')[0]) - 1))\n",
    "  ev.append(cur_ev)\n",
    "  image = cv2.imread(data_dir + filename)\n",
    "  avg_brightness.append(math.log(get_average_brightness(image, left_bound, right_bound, bottom_bound, top_bound)))\n",
    "\n",
    "[ev, avg_brightness]"
   ]
  },
  {
   "cell_type": "code",
   "execution_count": 10,
   "metadata": {},
   "outputs": [
    {
     "data": {
      "image/png": "[encoded data removed]",
      "text/plain": [
       "<Figure size 640x480 with 1 Axes>"
      ]
     },
     "metadata": {},
     "output_type": "display_data"
    }
   ],
   "source": [
    "\n",
    "\n",
    "plt.scatter(ev,avg_brightness)\n",
    "plt.xlabel('EV')\n",
    "plt.ylabel('Log(Avg brightness)')\n",
    "plt.grid()"
   ]
  }
 ],
 "metadata": {
  "kernelspec": {
   "display_name": "Python 3",
   "language": "python",
   "name": "python3"
  },
  "language_info": {
   "codemirror_mode": {
    "name": "ipython",
    "version": 3
   },
   "file_extension": ".py",
   "mimetype": "text/x-python",
   "name": "python",
   "nbconvert_exporter": "python",
   "pygments_lexer": "ipython3",
   "version": "3.11.2"
  },
  "orig_nbformat": 4
 },
 "nbformat": 4,
 "nbformat_minor": 2
}
