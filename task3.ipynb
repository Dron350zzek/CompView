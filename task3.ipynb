{
 "cells": [
  {
   "cell_type": "code",
   "execution_count": 78,
   "metadata": {},
   "outputs": [],
   "source": [
    "import cv2\n",
    "import numpy as np,sys\n",
    "import matplotlib.pyplot as plt\n",
    "import os\n",
    "n = 10\n",
    "curpath = os.getcwd()\n",
    "#print(curpath)\n",
    "img_path1 = f'{curpath}//input3//maxresdefault.jpg'\n",
    "img_path2 = f'{curpath}//input3//maxresdefault1.jpg'\n",
    "img1 = cv2.imread(img_path1)\n",
    "img2 = cv2.imread(img_path2)\n",
    "#print(img1)\n",
    "#print(img2)\n",
    "img2 = np.resize(img2, img1.shape)"
   ]
  },
  {
   "cell_type": "code",
   "execution_count": 79,
   "metadata": {},
   "outputs": [],
   "source": [
    "gaus1 = [img1]\n",
    "for i in range(n):\n",
    "    gaus1.append(cv2.pyrDown(gaus1[i]))\n",
    "gaus2 = [img2]\n",
    "for i in range(n):\n",
    "    gaus2.append(cv2.pyrDown(gaus2[i]))"
   ]
  },
  {
   "cell_type": "code",
   "execution_count": 80,
   "metadata": {},
   "outputs": [],
   "source": [
    "lapl1 = [gaus1[n-1]]\n",
    "for i in range(n-1, 0, -1):\n",
    "    t = cv2.pyrUp(gaus1[i])\n",
    "    if(np.prod(t.shape) < np.prod(gaus1[i-1].shape)):\n",
    "        gaus1[i-1] = np.resize(gaus1[i-1], t.shape)\n",
    "    else:\n",
    "        t = np.resize(t, gaus1[i-1].shape)\n",
    "    lapl1.append(cv2.subtract(gaus1[i-1], t))"
   ]
  },
  {
   "cell_type": "code",
   "execution_count": 81,
   "metadata": {},
   "outputs": [],
   "source": [
    "lapl2 = [gaus2[n-1]]\n",
    "for i in range(n-1, 0, -1):\n",
    "    t = cv2.pyrUp(gaus2[i])\n",
    "    if(np.prod(t.shape) < np.prod(gaus2[i-1].shape)):\n",
    "        gaus2[i-1] = np.resize(gaus2[i-1], t.shape)\n",
    "    else:\n",
    "        t = np.resize(t, gaus2[i-1].shape)\n",
    "    lapl2.append(cv2.subtract(gaus2[i-1], t))"
   ]
  },
  {
   "cell_type": "code",
   "execution_count": 82,
   "metadata": {},
   "outputs": [],
   "source": [
    "\n",
    "LS = []\n",
    "for la,lb in zip(lapl1, lapl2):\n",
    "    rows,cols,dpt = la.shape\n",
    "    ls = np.hstack((la[:,0:cols//2], lb[:,cols//2:]))\n",
    "    LS.append(ls)"
   ]
  },
  {
   "cell_type": "code",
   "execution_count": 83,
   "metadata": {},
   "outputs": [],
   "source": [
    "\n",
    "ls_ = LS[0]\n",
    "for i in range(1,n):\n",
    "    ls_ = cv2.pyrUp(ls_)\n",
    "    if(np.prod(ls_.shape) < np.prod(LS[i].shape)):\n",
    "        LS[i] = np.resize(LS[i], ls_.shape)\n",
    "    else:\n",
    "        ls_ = np.resize(ls_, LS[i].shape)\n",
    "    ls_ = cv2.add(ls_, LS[i])"
   ]
  },
  {
   "cell_type": "code",
   "execution_count": 84,
   "metadata": {},
   "outputs": [
    {
     "data": {
      "text/plain": [
       "True"
      ]
     },
     "execution_count": 84,
     "metadata": {},
     "output_type": "execute_result"
    }
   ],
   "source": [
    "cv2.imwrite(f'{curpath}\\\\output3.jpg',ls_)"
   ]
  }
 ],
 "metadata": {
  "kernelspec": {
   "display_name": "Python 3",
   "language": "python",
   "name": "python3"
  },
  "language_info": {
   "codemirror_mode": {
    "name": "ipython",
    "version": 3
   },
   "file_extension": ".py",
   "mimetype": "text/x-python",
   "name": "python",
   "nbconvert_exporter": "python",
   "pygments_lexer": "ipython3",
   "version": "3.11.2"
  },
  "orig_nbformat": 4
 },
 "nbformat": 4,
 "nbformat_minor": 2
}
